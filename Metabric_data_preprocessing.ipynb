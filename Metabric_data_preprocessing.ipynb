{
  "cells": [
    {
      "cell_type": "markdown",
      "metadata": {
        "id": "SGGPH7_elwbu"
      },
      "source": [
        "## Imports\n",
        "\n"
      ]
    },
    {
      "cell_type": "code",
      "execution_count": 1,
      "metadata": {
        "id": "9Sn-g6Y-lwbv",
        "colab": {
          "base_uri": "https://localhost:8080/"
        },
        "outputId": "4e69749d-eff4-44da-811d-c84c62e791d4"
      },
      "outputs": [
        {
          "output_type": "stream",
          "name": "stdout",
          "text": [
            "\u001b[2K     \u001b[90m━━━━━━━━━━━━━━━━━━━━━━━━━━━━━━━━━━━━━━━━\u001b[0m \u001b[32m3.7/3.7 MB\u001b[0m \u001b[31m13.6 MB/s\u001b[0m eta \u001b[36m0:00:00\u001b[0m\n",
            "\u001b[2K     \u001b[90m━━━━━━━━━━━━━━━━━━━━━━━━━━━━━━━━━━━━━━━━\u001b[0m \u001b[32m10.8/10.8 MB\u001b[0m \u001b[31m42.2 MB/s\u001b[0m eta \u001b[36m0:00:00\u001b[0m\n",
            "\u001b[2K     \u001b[90m━━━━━━━━━━━━━━━━━━━━━━━━━━━━━━━━━━━━━━━━\u001b[0m \u001b[32m349.2/349.2 kB\u001b[0m \u001b[31m6.0 MB/s\u001b[0m eta \u001b[36m0:00:00\u001b[0m\n",
            "\u001b[?25h  Preparing metadata (setup.py) ... \u001b[?25l\u001b[?25hdone\n",
            "\u001b[2K     \u001b[90m━━━━━━━━━━━━━━━━━━━━━━━━━━━━━━━━━━━━━━━━\u001b[0m \u001b[32m94.2/94.2 kB\u001b[0m \u001b[31m7.3 MB/s\u001b[0m eta \u001b[36m0:00:00\u001b[0m\n",
            "\u001b[?25h  Building wheel for autograd-gamma (setup.py) ... \u001b[?25l\u001b[?25hdone\n"
          ]
        }
      ],
      "source": [
        "!pip install scikit-survival -q\n",
        "!pip install xgboost -q\n",
        "!pip install lifelines -q\n"
      ]
    },
    {
      "cell_type": "code",
      "execution_count": 2,
      "metadata": {
        "id": "o8UV-XcIXdOd"
      },
      "outputs": [],
      "source": [
        "from sklearn import set_config\n",
        "from sklearn.model_selection import train_test_split\n",
        "\n",
        "from sksurv.datasets import get_x_y\n",
        "from sksurv.preprocessing import OneHotEncoder\n",
        "\n",
        "set_config(display=\"text\")"
      ]
    },
    {
      "cell_type": "code",
      "execution_count": 3,
      "metadata": {
        "id": "x4illrWRlwbw"
      },
      "outputs": [],
      "source": [
        "import random\n",
        "import pandas as pd\n",
        "import numpy as np\n",
        "import seaborn as sns\n",
        "import matplotlib.pyplot as plt\n",
        "from scipy import stats\n",
        "\n",
        "from sklearn.preprocessing import StandardScaler\n",
        "from sklearn.metrics import f1_score, accuracy_score, mean_absolute_error\n",
        "from xgboost import XGBRegressor\n",
        "from sklearn.model_selection import GridSearchCV\n",
        "from sksurv.ensemble import RandomSurvivalForest\n",
        "from sksurv.ensemble import GradientBoostingSurvivalAnalysis\n",
        "\n",
        "\n",
        "random.seed(42)\n",
        "np.random.seed(42)"
      ]
    },
    {
      "cell_type": "markdown",
      "metadata": {
        "id": "8qBfqwvLlwcE"
      },
      "source": [
        "## Dataset\n",
        "\n"
      ]
    },
    {
      "cell_type": "code",
      "execution_count": 4,
      "metadata": {
        "colab": {
          "base_uri": "https://localhost:8080/"
        },
        "id": "AvMXX3M4hWny",
        "outputId": "1bdf3fe0-304b-4047-8c8d-219167fad992"
      },
      "outputs": [
        {
          "output_type": "stream",
          "name": "stderr",
          "text": [
            "<ipython-input-4-0dffe3543454>:1: DtypeWarning: Columns (678,688,690,692) have mixed types. Specify dtype option on import or set low_memory=False.\n",
            "  data= pd.read_csv('METABRIC_RNA_Mutation.csv')\n"
          ]
        }
      ],
      "source": [
        "data= pd.read_csv('METABRIC_RNA_Mutation.csv')"
      ]
    },
    {
      "cell_type": "code",
      "execution_count": null,
      "metadata": {
        "id": "OYj5QVgNzUpr"
      },
      "outputs": [],
      "source": [
        "#list(data.columns)"
      ]
    },
    {
      "cell_type": "code",
      "execution_count": 5,
      "metadata": {
        "colab": {
          "base_uri": "https://localhost:8080/",
          "height": 424
        },
        "id": "5J4V2q25zZ-N",
        "outputId": "09a3998f-9ab7-43ef-aa67-c9f0e8d44ceb"
      },
      "outputs": [
        {
          "output_type": "execute_result",
          "data": {
            "text/plain": [
              "      overall_survival_months  overall_survival  event\n",
              "0                  140.500000                 1      0\n",
              "1                   84.633333                 1      0\n",
              "2                  163.700000                 0      1\n",
              "3                  164.933333                 1      0\n",
              "4                   41.366667                 0      1\n",
              "...                       ...               ...    ...\n",
              "1899               196.866667                 1      0\n",
              "1900                44.733333                 0      1\n",
              "1901               175.966667                 0      1\n",
              "1902                86.233333                 0      0\n",
              "1903               201.900000                 0      0\n",
              "\n",
              "[1904 rows x 3 columns]"
            ],
            "text/html": [
              "\n",
              "  <div id=\"df-dffd7bc1-35a9-4356-8a72-1c6f27ae6cd9\" class=\"colab-df-container\">\n",
              "    <div>\n",
              "<style scoped>\n",
              "    .dataframe tbody tr th:only-of-type {\n",
              "        vertical-align: middle;\n",
              "    }\n",
              "\n",
              "    .dataframe tbody tr th {\n",
              "        vertical-align: top;\n",
              "    }\n",
              "\n",
              "    .dataframe thead th {\n",
              "        text-align: right;\n",
              "    }\n",
              "</style>\n",
              "<table border=\"1\" class=\"dataframe\">\n",
              "  <thead>\n",
              "    <tr style=\"text-align: right;\">\n",
              "      <th></th>\n",
              "      <th>overall_survival_months</th>\n",
              "      <th>overall_survival</th>\n",
              "      <th>event</th>\n",
              "    </tr>\n",
              "  </thead>\n",
              "  <tbody>\n",
              "    <tr>\n",
              "      <th>0</th>\n",
              "      <td>140.500000</td>\n",
              "      <td>1</td>\n",
              "      <td>0</td>\n",
              "    </tr>\n",
              "    <tr>\n",
              "      <th>1</th>\n",
              "      <td>84.633333</td>\n",
              "      <td>1</td>\n",
              "      <td>0</td>\n",
              "    </tr>\n",
              "    <tr>\n",
              "      <th>2</th>\n",
              "      <td>163.700000</td>\n",
              "      <td>0</td>\n",
              "      <td>1</td>\n",
              "    </tr>\n",
              "    <tr>\n",
              "      <th>3</th>\n",
              "      <td>164.933333</td>\n",
              "      <td>1</td>\n",
              "      <td>0</td>\n",
              "    </tr>\n",
              "    <tr>\n",
              "      <th>4</th>\n",
              "      <td>41.366667</td>\n",
              "      <td>0</td>\n",
              "      <td>1</td>\n",
              "    </tr>\n",
              "    <tr>\n",
              "      <th>...</th>\n",
              "      <td>...</td>\n",
              "      <td>...</td>\n",
              "      <td>...</td>\n",
              "    </tr>\n",
              "    <tr>\n",
              "      <th>1899</th>\n",
              "      <td>196.866667</td>\n",
              "      <td>1</td>\n",
              "      <td>0</td>\n",
              "    </tr>\n",
              "    <tr>\n",
              "      <th>1900</th>\n",
              "      <td>44.733333</td>\n",
              "      <td>0</td>\n",
              "      <td>1</td>\n",
              "    </tr>\n",
              "    <tr>\n",
              "      <th>1901</th>\n",
              "      <td>175.966667</td>\n",
              "      <td>0</td>\n",
              "      <td>1</td>\n",
              "    </tr>\n",
              "    <tr>\n",
              "      <th>1902</th>\n",
              "      <td>86.233333</td>\n",
              "      <td>0</td>\n",
              "      <td>0</td>\n",
              "    </tr>\n",
              "    <tr>\n",
              "      <th>1903</th>\n",
              "      <td>201.900000</td>\n",
              "      <td>0</td>\n",
              "      <td>0</td>\n",
              "    </tr>\n",
              "  </tbody>\n",
              "</table>\n",
              "<p>1904 rows × 3 columns</p>\n",
              "</div>\n",
              "    <div class=\"colab-df-buttons\">\n",
              "\n",
              "  <div class=\"colab-df-container\">\n",
              "    <button class=\"colab-df-convert\" onclick=\"convertToInteractive('df-dffd7bc1-35a9-4356-8a72-1c6f27ae6cd9')\"\n",
              "            title=\"Convert this dataframe to an interactive table.\"\n",
              "            style=\"display:none;\">\n",
              "\n",
              "  <svg xmlns=\"http://www.w3.org/2000/svg\" height=\"24px\" viewBox=\"0 -960 960 960\">\n",
              "    <path d=\"M120-120v-720h720v720H120Zm60-500h600v-160H180v160Zm220 220h160v-160H400v160Zm0 220h160v-160H400v160ZM180-400h160v-160H180v160Zm440 0h160v-160H620v160ZM180-180h160v-160H180v160Zm440 0h160v-160H620v160Z\"/>\n",
              "  </svg>\n",
              "    </button>\n",
              "\n",
              "  <style>\n",
              "    .colab-df-container {\n",
              "      display:flex;\n",
              "      gap: 12px;\n",
              "    }\n",
              "\n",
              "    .colab-df-convert {\n",
              "      background-color: #E8F0FE;\n",
              "      border: none;\n",
              "      border-radius: 50%;\n",
              "      cursor: pointer;\n",
              "      display: none;\n",
              "      fill: #1967D2;\n",
              "      height: 32px;\n",
              "      padding: 0 0 0 0;\n",
              "      width: 32px;\n",
              "    }\n",
              "\n",
              "    .colab-df-convert:hover {\n",
              "      background-color: #E2EBFA;\n",
              "      box-shadow: 0px 1px 2px rgba(60, 64, 67, 0.3), 0px 1px 3px 1px rgba(60, 64, 67, 0.15);\n",
              "      fill: #174EA6;\n",
              "    }\n",
              "\n",
              "    .colab-df-buttons div {\n",
              "      margin-bottom: 4px;\n",
              "    }\n",
              "\n",
              "    [theme=dark] .colab-df-convert {\n",
              "      background-color: #3B4455;\n",
              "      fill: #D2E3FC;\n",
              "    }\n",
              "\n",
              "    [theme=dark] .colab-df-convert:hover {\n",
              "      background-color: #434B5C;\n",
              "      box-shadow: 0px 1px 3px 1px rgba(0, 0, 0, 0.15);\n",
              "      filter: drop-shadow(0px 1px 2px rgba(0, 0, 0, 0.3));\n",
              "      fill: #FFFFFF;\n",
              "    }\n",
              "  </style>\n",
              "\n",
              "    <script>\n",
              "      const buttonEl =\n",
              "        document.querySelector('#df-dffd7bc1-35a9-4356-8a72-1c6f27ae6cd9 button.colab-df-convert');\n",
              "      buttonEl.style.display =\n",
              "        google.colab.kernel.accessAllowed ? 'block' : 'none';\n",
              "\n",
              "      async function convertToInteractive(key) {\n",
              "        const element = document.querySelector('#df-dffd7bc1-35a9-4356-8a72-1c6f27ae6cd9');\n",
              "        const dataTable =\n",
              "          await google.colab.kernel.invokeFunction('convertToInteractive',\n",
              "                                                    [key], {});\n",
              "        if (!dataTable) return;\n",
              "\n",
              "        const docLinkHtml = 'Like what you see? Visit the ' +\n",
              "          '<a target=\"_blank\" href=https://colab.research.google.com/notebooks/data_table.ipynb>data table notebook</a>'\n",
              "          + ' to learn more about interactive tables.';\n",
              "        element.innerHTML = '';\n",
              "        dataTable['output_type'] = 'display_data';\n",
              "        await google.colab.output.renderOutput(dataTable, element);\n",
              "        const docLink = document.createElement('div');\n",
              "        docLink.innerHTML = docLinkHtml;\n",
              "        element.appendChild(docLink);\n",
              "      }\n",
              "    </script>\n",
              "  </div>\n",
              "\n",
              "\n",
              "<div id=\"df-99791b56-9f21-4af7-acd1-24322c83fec1\">\n",
              "  <button class=\"colab-df-quickchart\" onclick=\"quickchart('df-99791b56-9f21-4af7-acd1-24322c83fec1')\"\n",
              "            title=\"Suggest charts\"\n",
              "            style=\"display:none;\">\n",
              "\n",
              "<svg xmlns=\"http://www.w3.org/2000/svg\" height=\"24px\"viewBox=\"0 0 24 24\"\n",
              "     width=\"24px\">\n",
              "    <g>\n",
              "        <path d=\"M19 3H5c-1.1 0-2 .9-2 2v14c0 1.1.9 2 2 2h14c1.1 0 2-.9 2-2V5c0-1.1-.9-2-2-2zM9 17H7v-7h2v7zm4 0h-2V7h2v10zm4 0h-2v-4h2v4z\"/>\n",
              "    </g>\n",
              "</svg>\n",
              "  </button>\n",
              "\n",
              "<style>\n",
              "  .colab-df-quickchart {\n",
              "      --bg-color: #E8F0FE;\n",
              "      --fill-color: #1967D2;\n",
              "      --hover-bg-color: #E2EBFA;\n",
              "      --hover-fill-color: #174EA6;\n",
              "      --disabled-fill-color: #AAA;\n",
              "      --disabled-bg-color: #DDD;\n",
              "  }\n",
              "\n",
              "  [theme=dark] .colab-df-quickchart {\n",
              "      --bg-color: #3B4455;\n",
              "      --fill-color: #D2E3FC;\n",
              "      --hover-bg-color: #434B5C;\n",
              "      --hover-fill-color: #FFFFFF;\n",
              "      --disabled-bg-color: #3B4455;\n",
              "      --disabled-fill-color: #666;\n",
              "  }\n",
              "\n",
              "  .colab-df-quickchart {\n",
              "    background-color: var(--bg-color);\n",
              "    border: none;\n",
              "    border-radius: 50%;\n",
              "    cursor: pointer;\n",
              "    display: none;\n",
              "    fill: var(--fill-color);\n",
              "    height: 32px;\n",
              "    padding: 0;\n",
              "    width: 32px;\n",
              "  }\n",
              "\n",
              "  .colab-df-quickchart:hover {\n",
              "    background-color: var(--hover-bg-color);\n",
              "    box-shadow: 0 1px 2px rgba(60, 64, 67, 0.3), 0 1px 3px 1px rgba(60, 64, 67, 0.15);\n",
              "    fill: var(--button-hover-fill-color);\n",
              "  }\n",
              "\n",
              "  .colab-df-quickchart-complete:disabled,\n",
              "  .colab-df-quickchart-complete:disabled:hover {\n",
              "    background-color: var(--disabled-bg-color);\n",
              "    fill: var(--disabled-fill-color);\n",
              "    box-shadow: none;\n",
              "  }\n",
              "\n",
              "  .colab-df-spinner {\n",
              "    border: 2px solid var(--fill-color);\n",
              "    border-color: transparent;\n",
              "    border-bottom-color: var(--fill-color);\n",
              "    animation:\n",
              "      spin 1s steps(1) infinite;\n",
              "  }\n",
              "\n",
              "  @keyframes spin {\n",
              "    0% {\n",
              "      border-color: transparent;\n",
              "      border-bottom-color: var(--fill-color);\n",
              "      border-left-color: var(--fill-color);\n",
              "    }\n",
              "    20% {\n",
              "      border-color: transparent;\n",
              "      border-left-color: var(--fill-color);\n",
              "      border-top-color: var(--fill-color);\n",
              "    }\n",
              "    30% {\n",
              "      border-color: transparent;\n",
              "      border-left-color: var(--fill-color);\n",
              "      border-top-color: var(--fill-color);\n",
              "      border-right-color: var(--fill-color);\n",
              "    }\n",
              "    40% {\n",
              "      border-color: transparent;\n",
              "      border-right-color: var(--fill-color);\n",
              "      border-top-color: var(--fill-color);\n",
              "    }\n",
              "    60% {\n",
              "      border-color: transparent;\n",
              "      border-right-color: var(--fill-color);\n",
              "    }\n",
              "    80% {\n",
              "      border-color: transparent;\n",
              "      border-right-color: var(--fill-color);\n",
              "      border-bottom-color: var(--fill-color);\n",
              "    }\n",
              "    90% {\n",
              "      border-color: transparent;\n",
              "      border-bottom-color: var(--fill-color);\n",
              "    }\n",
              "  }\n",
              "</style>\n",
              "\n",
              "  <script>\n",
              "    async function quickchart(key) {\n",
              "      const quickchartButtonEl =\n",
              "        document.querySelector('#' + key + ' button');\n",
              "      quickchartButtonEl.disabled = true;  // To prevent multiple clicks.\n",
              "      quickchartButtonEl.classList.add('colab-df-spinner');\n",
              "      try {\n",
              "        const charts = await google.colab.kernel.invokeFunction(\n",
              "            'suggestCharts', [key], {});\n",
              "      } catch (error) {\n",
              "        console.error('Error during call to suggestCharts:', error);\n",
              "      }\n",
              "      quickchartButtonEl.classList.remove('colab-df-spinner');\n",
              "      quickchartButtonEl.classList.add('colab-df-quickchart-complete');\n",
              "    }\n",
              "    (() => {\n",
              "      let quickchartButtonEl =\n",
              "        document.querySelector('#df-99791b56-9f21-4af7-acd1-24322c83fec1 button');\n",
              "      quickchartButtonEl.style.display =\n",
              "        google.colab.kernel.accessAllowed ? 'block' : 'none';\n",
              "    })();\n",
              "  </script>\n",
              "</div>\n",
              "    </div>\n",
              "  </div>\n"
            ],
            "application/vnd.google.colaboratory.intrinsic+json": {
              "type": "dataframe",
              "summary": "{\n  \"name\": \"data[['overall_survival_months', 'overall_survival', 'event']]\",\n  \"rows\": 1904,\n  \"fields\": [\n    {\n      \"column\": \"overall_survival_months\",\n      \"properties\": {\n        \"dtype\": \"number\",\n        \"std\": 76.33414828620853,\n        \"min\": 0.0,\n        \"max\": 355.2,\n        \"num_unique_values\": 1685,\n        \"samples\": [\n          243.1666667,\n          75.7,\n          262.1333333\n        ],\n        \"semantic_type\": \"\",\n        \"description\": \"\"\n      }\n    },\n    {\n      \"column\": \"overall_survival\",\n      \"properties\": {\n        \"dtype\": \"number\",\n        \"std\": 0,\n        \"min\": 0,\n        \"max\": 1,\n        \"num_unique_values\": 2,\n        \"samples\": [\n          0,\n          1\n        ],\n        \"semantic_type\": \"\",\n        \"description\": \"\"\n      }\n    },\n    {\n      \"column\": \"event\",\n      \"properties\": {\n        \"dtype\": \"number\",\n        \"std\": 0,\n        \"min\": 0,\n        \"max\": 1,\n        \"num_unique_values\": 2,\n        \"samples\": [\n          1,\n          0\n        ],\n        \"semantic_type\": \"\",\n        \"description\": \"\"\n      }\n    }\n  ]\n}"
            }
          },
          "metadata": {},
          "execution_count": 5
        }
      ],
      "source": [
        "data[\"event\"]=0\n",
        "data.loc[(data.death_from_cancer==\"Died of Disease\"),\"event\"]=1\n",
        "data[['overall_survival_months', 'overall_survival', 'event']]"
      ]
    },
    {
      "cell_type": "code",
      "execution_count": 6,
      "metadata": {
        "colab": {
          "base_uri": "https://localhost:8080/"
        },
        "id": "0sVBA83jnwvh",
        "outputId": "a738402c-df35-4dc6-ecb6-9dead23ec438"
      },
      "outputs": [
        {
          "output_type": "stream",
          "name": "stdout",
          "text": [
            "cellularity                  54\n",
            "neoplasm_histologic_grade    72\n",
            "tumor_size                   20\n",
            "dtype: int64\n"
          ]
        }
      ],
      "source": [
        "data = data.drop(['patient_id', 'type_of_breast_surgery', 'inferred_menopausal_state', 'integrative_cluster', 'lymph_nodes_examined_positive', 'oncotree_code', 'tumor_stage', 'overall_survival' , 'death_from_cancer',\n",
        "       'cancer_type', 'cancer_type_detailed',  'cohort', 'er_status_measured_by_ihc', 'her2_status_measured_by_snp6', 'nottingham_prognostic_index', '3-gene_classifier_subtype', 'primary_tumor_laterality', 'tumor_other_histologic_subtype', 'mutation_count' ], axis=1)\n",
        "\n",
        "nan_cols = data.columns[data.isna().sum()>0]\n",
        "print(data[nan_cols].isna().sum())\n",
        "\n",
        "data.fillna(value=0, inplace=True)"
      ]
    },
    {
      "cell_type": "code",
      "execution_count": null,
      "metadata": {
        "id": "YBvb_ghefi69"
      },
      "outputs": [],
      "source": [
        "#data[list(data.columns)[:12]].nunique()\n",
        "#data.cellularity.value_counts()\n",
        "#data[\"pam50_+_claudin-low_subtype\"].value_counts()"
      ]
    },
    {
      "cell_type": "code",
      "execution_count": 7,
      "metadata": {
        "id": "rDeXCJPwi-wF"
      },
      "outputs": [],
      "source": [
        "data[\"cellularity\"] = data[\"cellularity\"].replace({\"Low\": 1, \"Moderate\":2, \"High\":3})\n",
        "data=data.replace({\"Negative\": 0, \"Positive\": 1})\n",
        "\n",
        "cat = pd.get_dummies(data[[\"pam50_+_claudin-low_subtype\"]]).replace({False: 0, True: 1}).drop(\"pam50_+_claudin-low_subtype_NC\", axis=1)\n",
        "data = pd.concat([data.drop(\"pam50_+_claudin-low_subtype\", axis=1), cat],axis=1)"
      ]
    },
    {
      "cell_type": "code",
      "execution_count": 8,
      "metadata": {
        "id": "4D-21ztYYikf"
      },
      "outputs": [],
      "source": [
        "df_train, df_test = train_test_split(data, test_size=0.2, shuffle = True, random_state=42)\n",
        "df_train, df_val = train_test_split(df_train, test_size=0.2, shuffle = True, random_state=42)"
      ]
    },
    {
      "cell_type": "markdown",
      "metadata": {
        "id": "oX5_OUaTCPfW"
      },
      "source": [
        "## Scaling and reducing multicollinearity"
      ]
    },
    {
      "cell_type": "code",
      "execution_count": null,
      "metadata": {
        "colab": {
          "base_uri": "https://localhost:8080/"
        },
        "id": "1Yp2c5aBYjiL",
        "outputId": "08fc77bd-6402-4ed0-b90a-1c941e4e5228"
      },
      "outputs": [
        {
          "name": "stderr",
          "output_type": "stream",
          "text": [
            "<ipython-input-11-926b7426d844>:5: SettingWithCopyWarning: \n",
            "A value is trying to be set on a copy of a slice from a DataFrame.\n",
            "Try using .loc[row_indexer,col_indexer] = value instead\n",
            "\n",
            "See the caveats in the documentation: https://pandas.pydata.org/pandas-docs/stable/user_guide/indexing.html#returning-a-view-versus-a-copy\n",
            "  reducing[features] = scaler.fit_transform(reducing[features])\n"
          ]
        }
      ],
      "source": [
        "features = [i for i in data.columns if data[i].dtype!='object' and i not in [\"event\", \"overall_survival_months\"]]\n",
        "reducing = df_train[features]\n",
        "\n",
        "scaler = StandardScaler()\n",
        "reducing[features] = scaler.fit_transform(reducing[features])"
      ]
    },
    {
      "cell_type": "code",
      "execution_count": null,
      "metadata": {
        "id": "c9nW4kdfiMJ-"
      },
      "outputs": [],
      "source": [
        "corr_matrix = reducing.corr()\n",
        "\n",
        "to_delete = []\n",
        "for i in corr_matrix.index:\n",
        "  row = corr_matrix.loc[i].drop(i)\n",
        "  if len(row[abs(row)>0.6])>0:\n",
        "    corr_matrix = corr_matrix.drop(i,axis=1)\n",
        "    to_delete.append(i)"
      ]
    },
    {
      "cell_type": "code",
      "execution_count": null,
      "metadata": {
        "colab": {
          "base_uri": "https://localhost:8080/"
        },
        "id": "9yi5S-OS4Xlg",
        "outputId": "84ec7cc6-42ba-4a47-f612-10c18f5d035d"
      },
      "outputs": [
        {
          "data": {
            "text/plain": [
              "['er_status',\n",
              " 'her2_status',\n",
              " 'chek2',\n",
              " 'msh2',\n",
              " 'pms2',\n",
              " 'epcam',\n",
              " 'rb1',\n",
              " 'ccnb1',\n",
              " 'cdk1',\n",
              " 'ccne1',\n",
              " 'cdc25a',\n",
              " 'cdk6',\n",
              " 'ccnd2',\n",
              " 'cdkn1b',\n",
              " 'e2f2',\n",
              " 'e2f7',\n",
              " 'jak1',\n",
              " 'aph1a',\n",
              " 'aph1b',\n",
              " 'cir1',\n",
              " 'heyl',\n",
              " 'psen1',\n",
              " 'snw1',\n",
              " 'acvrl1',\n",
              " 'aurka',\n",
              " 'bcl2',\n",
              " 'bmpr2',\n",
              " 'casp8',\n",
              " 'chek1',\n",
              " 'csf1r',\n",
              " 'eif4e',\n",
              " 'erbb3',\n",
              " 'folr2',\n",
              " 'foxo1',\n",
              " 'igf1',\n",
              " 'mmp11',\n",
              " 'mmp13',\n",
              " 'mmp2',\n",
              " 'pdgfra',\n",
              " 'pdgfrb',\n",
              " 'pik3ca',\n",
              " 'tgfb3',\n",
              " 'tgfbr2',\n",
              " 'tsc2',\n",
              " 'gata3',\n",
              " 'kmt2c',\n",
              " 'fn1',\n",
              " 'adgra2',\n",
              " 'col12a1',\n",
              " 'col6a3',\n",
              " 'kdm3a',\n",
              " 'palld',\n",
              " 'ppp2cb',\n",
              " 'sgcd',\n",
              " 'smarcc2',\n",
              " 'akr1c2',\n",
              " 'akr1c3']"
            ]
          },
          "execution_count": 13,
          "metadata": {},
          "output_type": "execute_result"
        }
      ],
      "source": [
        "to_delete"
      ]
    },
    {
      "cell_type": "code",
      "execution_count": null,
      "metadata": {
        "id": "npc4nx2RBS2y"
      },
      "outputs": [],
      "source": [
        "#corr_matrix.loc[\"er_status\"][abs(corr_matrix.loc[\"er_status\"])>0.6]"
      ]
    },
    {
      "cell_type": "code",
      "execution_count": null,
      "metadata": {
        "id": "U-fVizKGksVL"
      },
      "outputs": [],
      "source": [
        "reducing = reducing.drop(to_delete, axis=1)"
      ]
    },
    {
      "cell_type": "code",
      "execution_count": null,
      "metadata": {
        "id": "YX9edqyXZPCi"
      },
      "outputs": [],
      "source": [
        "scaler = StandardScaler()\n",
        "scaler.fit(df_train[reducing.columns])\n",
        "\n",
        "df_train[reducing.columns] = scaler.transform(df_train[reducing.columns])\n",
        "df_val[reducing.columns] = scaler.transform(df_val[reducing.columns])\n",
        "df_test[reducing.columns] = scaler.transform(df_test[reducing.columns])"
      ]
    },
    {
      "cell_type": "markdown",
      "metadata": {
        "id": "6mEfVEw9652V"
      },
      "source": [
        "## Features selection"
      ]
    },
    {
      "cell_type": "code",
      "execution_count": null,
      "metadata": {
        "id": "eYsTXmWh7dGm"
      },
      "outputs": [],
      "source": [
        "cols = list(reducing.columns)+[\"event\", \"overall_survival_months\"]\n",
        "\n",
        "X_tree_train, y_tree_train = get_x_y(df_train[cols], [\"event\", \"overall_survival_months\"], 1)\n",
        "X_tree_val, y_tree_val = get_x_y(df_val[cols], [\"event\", \"overall_survival_months\"], 1)"
      ]
    },
    {
      "cell_type": "code",
      "execution_count": null,
      "metadata": {
        "colab": {
          "base_uri": "https://localhost:8080/"
        },
        "id": "Rh4IsPlr7dNx",
        "outputId": "983ba9c9-8325-4439-8e80-2d59e1fbe2d2"
      },
      "outputs": [
        {
          "name": "stdout",
          "output_type": "stream",
          "text": [
            "0.8402427634917823\n",
            "0.7140840810565581\n",
            "CPU times: user 1.28 s, sys: 1.32 ms, total: 1.28 s\n",
            "Wall time: 1.28 s\n"
          ]
        }
      ],
      "source": [
        "%%time\n",
        "estimator = GradientBoostingSurvivalAnalysis(loss=\"coxph\",\n",
        "                           min_samples_leaf=20 , n_estimators=30, max_features = 40).fit(X_tree_train, y_tree_train)\n",
        "\n",
        "print(estimator.score(X_tree_train, y_tree_train))\n",
        "print(estimator.score(X_tree_val, y_tree_val))"
      ]
    },
    {
      "cell_type": "code",
      "execution_count": null,
      "metadata": {
        "id": "DPQ1QGDLCUx_"
      },
      "outputs": [],
      "source": [
        "from sklearn.inspection import permutation_importance\n",
        "\n",
        "result_xgb = permutation_importance(estimator, X_tree_train, y_tree_train, n_repeats=3, random_state=123)"
      ]
    },
    {
      "cell_type": "code",
      "execution_count": null,
      "metadata": {
        "id": "XfL-iYQ9VXba"
      },
      "outputs": [],
      "source": [
        "def top(model_result, data, num):\n",
        "  best = pd.DataFrame(\n",
        "    {k: model_result[k] for k in (\"importances_mean\", \"importances_std\",)},index=data.columns)\n",
        "  best_num = best.sort_values(by=\"importances_mean\", ascending=False).iloc[:num,:]\n",
        "  return(best_num.index)"
      ]
    },
    {
      "cell_type": "code",
      "execution_count": null,
      "metadata": {
        "id": "hgqsPLm2CwTR"
      },
      "outputs": [],
      "source": [
        "top50_boost = top(result_xgb, X_tree_train, 50)"
      ]
    },
    {
      "cell_type": "code",
      "execution_count": null,
      "metadata": {
        "colab": {
          "base_uri": "https://localhost:8080/"
        },
        "id": "yxCjxsmUCwX3",
        "outputId": "3c6e7182-e33b-4751-fce7-79ea790853dc"
      },
      "outputs": [
        {
          "name": "stdout",
          "output_type": "stream",
          "text": [
            "0.9088075339565584\n",
            "0.7263837080350842\n"
          ]
        }
      ],
      "source": [
        "from sksurv.ensemble import RandomSurvivalForest\n",
        "\n",
        "rsf = RandomSurvivalForest(n_estimators=100,\n",
        "                           min_samples_leaf=20,\n",
        "                           n_jobs=-1,\n",
        "                           random_state=123)\n",
        "rsf.fit(X_tree_train, y_tree_train)\n",
        "\n",
        "print(rsf.score(X_tree_train, y_tree_train))\n",
        "print(rsf.score(X_tree_val, y_tree_val))"
      ]
    },
    {
      "cell_type": "code",
      "execution_count": null,
      "metadata": {
        "id": "9tliOMXhUFUd"
      },
      "outputs": [],
      "source": [
        "result_rsf = permutation_importance(rsf, X_tree_train, y_tree_train, n_repeats=3, random_state=123)"
      ]
    },
    {
      "cell_type": "code",
      "execution_count": null,
      "metadata": {
        "id": "b71F6LHCUFbR"
      },
      "outputs": [],
      "source": [
        "top50_rsf= top(result_rsf, X_tree_train, 50)"
      ]
    },
    {
      "cell_type": "code",
      "execution_count": null,
      "metadata": {
        "colab": {
          "base_uri": "https://localhost:8080/"
        },
        "id": "G16nZLDhUFt7",
        "outputId": "0b182604-1045-4cdf-d466-00ac4e21bfdd"
      },
      "outputs": [
        {
          "data": {
            "text/plain": [
              "array(['age_at_diagnosis', 'cdkn2a', 'chemotherapy', 'col22a1', 'cul1',\n",
              "       'e2f3', 'fancd2', 'gsk3b', 'hsd3b7', 'map2k4', 'mapt', 'mmp25',\n",
              "       'nr2f1', 'rad51', 'shbg', 'smad6', 'stat5a', 'stmn2', 'tumor_size',\n",
              "       'ugt2b17', 'wwox'], dtype=object)"
            ]
          },
          "execution_count": 25,
          "metadata": {},
          "output_type": "execute_result"
        }
      ],
      "source": [
        "top_intersect = np.intersect1d(top50_rsf,top50_boost)\n",
        "top_intersect"
      ]
    },
    {
      "cell_type": "code",
      "execution_count": null,
      "metadata": {
        "colab": {
          "base_uri": "https://localhost:8080/"
        },
        "id": "ra1u4Oxh7Z5T",
        "outputId": "bb894883-e5a5-43f1-c9ad-481c5ce418c2"
      },
      "outputs": [
        {
          "data": {
            "text/plain": [
              "array(['abcb1', 'acvr1b', 'age_at_diagnosis', 'bmp10', 'bmp3', 'cdkn2a',\n",
              "       'chemotherapy', 'col22a1', 'ctcf', 'cul1', 'cyp21a2', 'e2f3',\n",
              "       'e2f8', 'fancd2', 'gsk3b', 'hey2', 'hsd17b8', 'hsd3b7', 'igf1r',\n",
              "       'kras', 'lfng', 'map2k3', 'map2k4', 'map3k10', 'mapt', 'mmp25',\n",
              "       'ncoa3', 'npnt', 'nr2f1', 'pam50_+_claudin-low_subtype_LumA',\n",
              "       'prkce', 'ptpn22', 'rad51', 'shbg', 'slc29a1', 'smad5', 'smad6',\n",
              "       'src', 'stat5a', 'stmn2', 'tubb4a', 'tubb4b', 'tumor_size',\n",
              "       'ugt2b17', 'wwox'], dtype=object)"
            ]
          },
          "execution_count": 31,
          "metadata": {},
          "output_type": "execute_result"
        }
      ],
      "source": [
        "final_features = np.unique(np.concatenate((top_intersect, top50_rsf[:25], top50_boost[:25])))#.shape\n",
        "final_features"
      ]
    },
    {
      "cell_type": "markdown",
      "metadata": {
        "id": "-H2KjJnh_MCu"
      },
      "source": [
        "## Final features check for multicollinearity"
      ]
    },
    {
      "cell_type": "code",
      "execution_count": null,
      "metadata": {
        "colab": {
          "base_uri": "https://localhost:8080/",
          "height": 1000
        },
        "id": "wQr_VeLVV52m",
        "outputId": "c74941d5-73d1-49e4-bcee-b480d3fdeb47"
      },
      "outputs": [
        {
          "data": {
            "text/plain": [
              "<Axes: >"
            ]
          },
          "execution_count": 20,
          "metadata": {},
          "output_type": "execute_result"
        },
        {
          "data": {
            "image/png": "[encoded data removed]",
            "text/plain": [
              "<Figure size 1500x1200 with 2 Axes>"
            ]
          },
          "metadata": {},
          "output_type": "display_data"
        }
      ],
      "source": [
        "import seaborn as sns\n",
        "plt.figure(figsize = (15, 12))\n",
        "sns.heatmap(df_train[final_features].corr(),vmin = -1, vmax = 1, annot=False, cmap=\"RdBu_r\")"
      ]
    },
    {
      "cell_type": "code",
      "execution_count": null,
      "metadata": {
        "id": "rBFNepQ3dR4z"
      },
      "outputs": [],
      "source": [
        "df_train[list(final_features) + [\"event\", \"overall_survival_months\"]].to_csv(\"Metabric_train.csv\")\n",
        "df_test[list(final_features) + [\"event\", \"overall_survival_months\"]].to_csv(\"Metabric_test.csv\")\n",
        "df_val[list(final_features) + [\"event\", \"overall_survival_months\"]].to_csv(\"Metabric_val.csv\")\n"
      ]
    },
    {
      "cell_type": "code",
      "execution_count": null,
      "metadata": {
        "id": "jxycDFHDlwcc"
      },
      "outputs": [],
      "source": []
    },
    {
      "cell_type": "markdown",
      "source": [
        "## All data with only chosen features without scaling"
      ],
      "metadata": {
        "id": "4bHq-zFYjFBQ"
      }
    },
    {
      "cell_type": "code",
      "source": [
        "data_selected = data[list(final_features)+[\"event\", \"overall_survival_months\"]]\n",
        "data_selected.to_csv(\"Metabric_selected.csv\")"
      ],
      "metadata": {
        "id": "D4sYvG7qiwWk"
      },
      "execution_count": 12,
      "outputs": []
    },
    {
      "cell_type": "code",
      "execution_count": null,
      "metadata": {
        "id": "E1Snok9NCXxc"
      },
      "outputs": [],
      "source": []
    }
  ],
  "metadata": {
    "accelerator": "GPU",
    "colab": {
      "gpuType": "T4",
      "provenance": []
    },
    "kernelspec": {
      "display_name": "Python 3 (ipykernel)",
      "language": "python",
      "name": "python3"
    },
    "language_info": {
      "codemirror_mode": {
        "name": "ipython",
        "version": 3
      },
      "file_extension": ".py",
      "mimetype": "text/x-python",
      "name": "python",
      "nbconvert_exporter": "python",
      "pygments_lexer": "ipython3",
      "version": "3.9.13"
    }
  },
  "nbformat": 4,
  "nbformat_minor": 0
}